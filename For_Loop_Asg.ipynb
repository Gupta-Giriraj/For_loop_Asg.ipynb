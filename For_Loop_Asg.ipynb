{
 "cells": [
  {
   "cell_type": "raw",
   "id": "b56c56e2-6f81-46ab-86fa-9feed4b098a4",
   "metadata": {},
   "source": [
    "Write a Python program to print the numbers from 1 to 10 using a `for` loop"
   ]
  },
  {
   "cell_type": "code",
   "execution_count": 8,
   "id": "a1147d21-39fb-49f3-9ecc-b638be9ce3f5",
   "metadata": {},
   "outputs": [
    {
     "name": "stdout",
     "output_type": "stream",
     "text": [
      "1\n",
      "2\n",
      "3\n",
      "4\n",
      "5\n",
      "6\n",
      "7\n",
      "8\n",
      "9\n",
      "10\n"
     ]
    }
   ],
   "source": [
    "for i in range(1,11):\n",
    "    print(i)"
   ]
  },
  {
   "cell_type": "raw",
   "id": "4abc2cff-adea-47c4-8857-f5e71809e971",
   "metadata": {},
   "source": [
    "2. Create a program that calculates the sum of all numbers in a list using a `for` loop."
   ]
  },
  {
   "cell_type": "code",
   "execution_count": 27,
   "id": "006389df-7686-4ed9-95da-c09f05c52402",
   "metadata": {},
   "outputs": [
    {
     "name": "stdout",
     "output_type": "stream",
     "text": [
      "The sum of the list is: 225\n"
     ]
    }
   ],
   "source": [
    "def sum_of_list(numbers):\n",
    "  sum = 0\n",
    "  for number in numbers:\n",
    "    sum += number\n",
    "  return sum\n",
    "numbers = [45,67,79,23,11]\n",
    "total_sum = sum_of_list(numbers)\n",
    "print(f\"The sum of the list is: {total_sum}\")"
   ]
  },
  {
   "cell_type": "raw",
   "id": "3fdcad37-d51a-4796-bd05-62b5aea77a5f",
   "metadata": {},
   "source": [
    "    3. Write a program to print the characters of a string in reverse order using a `for` loop."
   ]
  },
  {
   "cell_type": "code",
   "execution_count": 44,
   "id": "67a26ee7-1c31-48e5-ab95-01fb1cd3bbde",
   "metadata": {},
   "outputs": [
    {
     "name": "stdout",
     "output_type": "stream",
     "text": [
      "['j', 'a', 'r', 'i', 'r', 'i', 'g']\n"
     ]
    }
   ],
   "source": [
    "s= 'giriraj'\n",
    "l1 = list (s)\n",
    "for i in l1:\n",
    "    l1.reverse() \n",
    "    print (l1)"
   ]
  },
  {
   "cell_type": "raw",
   "id": "d2d3dd10-ee70-4ab3-8374-b307045efb4f",
   "metadata": {},
   "source": [
    "4. Develop a program that finds the factorial of a given number using a `for` loop."
   ]
  },
  {
   "cell_type": "code",
   "execution_count": 48,
   "id": "0d0d02f4-63da-43ab-b70d-47566754eca9",
   "metadata": {},
   "outputs": [],
   "source": []
  },
  {
   "cell_type": "code",
   "execution_count": 58,
   "id": "c9cb0ca0-91cc-4d86-82c4-f6d1f03b984c",
   "metadata": {},
   "outputs": [
    {
     "name": "stdout",
     "output_type": "stream",
     "text": [
      "The factorial of 5 is: 120\n"
     ]
    }
   ],
   "source": [
    "def factorial(number):\n",
    "  \"\"\"\n",
    "  This function calculates the factorial of a given number using a for loop.\n",
    "\n",
    "  Args:\n",
    "    number: The number whose factorial is to be calculated.\n",
    "\n",
    "  Returns:\n",
    "    The factorial of the given number.\n",
    "  \"\"\"\n",
    "\n",
    "  result = 1\n",
    "  for i in range(1, number + 1):\n",
    "      result *= i\n",
    "  return result\n",
    "\n",
    "# Example usage\n",
    "number = 5\n",
    "print(f\"The factorial of {number} is: {factorial(number)}\")"
   ]
  },
  {
   "cell_type": "raw",
   "id": "b24d9ce6-4441-4fed-b40d-be568fa2afd1",
   "metadata": {},
   "source": [
    "5. Create a program to print the multiplication table of a given number using a `for` loop."
   ]
  },
  {
   "cell_type": "code",
   "execution_count": 59,
   "id": "6008b6d5-8606-4b81-a388-7117f2649225",
   "metadata": {},
   "outputs": [
    {
     "name": "stdout",
     "output_type": "stream",
     "text": [
      "5 x 1 = 5\n",
      "5 x 2 = 10\n",
      "5 x 3 = 15\n",
      "5 x 4 = 20\n",
      "5 x 5 = 25\n",
      "5 x 6 = 30\n",
      "5 x 7 = 35\n",
      "5 x 8 = 40\n",
      "5 x 9 = 45\n",
      "5 x 10 = 50\n"
     ]
    }
   ],
   "source": [
    "def multiplication_table(number, max_factor):\n",
    "  \"\"\"\n",
    "  This function prints the multiplication table of a given number up to a specified maximum factor.\n",
    "\n",
    "  Args:\n",
    "    number: The number for which the multiplication table is to be printed.\n",
    "    max_factor: The maximum factor to be included in the table.\n",
    "  \"\"\"\n",
    "\n",
    "  for factor in range(1, max_factor + 1):\n",
    "    product = number * factor\n",
    "    print(f\"{number} x {factor} = {product}\")\n",
    "\n",
    "number = 5\n",
    "max_factor = 10\n",
    "multiplication_table(number, max_factor)\n"
   ]
  },
  {
   "cell_type": "raw",
   "id": "ee52ce78-33f7-4c6c-a842-7b2aa5ebfc85",
   "metadata": {},
   "source": [
    "6. Write a program that counts the number of even and odd numbers in a list using a `for` loop."
   ]
  },
  {
   "cell_type": "code",
   "execution_count": 60,
   "id": "d03d1552-7ae1-4108-b15c-fcd900d682e2",
   "metadata": {},
   "outputs": [
    {
     "name": "stdout",
     "output_type": "stream",
     "text": [
      "Even numbers: 4\n",
      "Odd numbers: 4\n"
     ]
    }
   ],
   "source": [
    "def count_even_odd(numbers):\n",
    "  \"\"\"\n",
    "  This function counts the number of even and odd numbers in a list.\n",
    "\n",
    "  Args:\n",
    "    numbers: A list of numbers.\n",
    "\n",
    "  Returns:\n",
    "    A dictionary with keys \"even_count\" and \"odd_count\" containing the counts of even and odd numbers respectively.\n",
    "  \"\"\"\n",
    "\n",
    "  even_count = 0\n",
    "  odd_count = 0\n",
    "\n",
    "  for number in numbers:\n",
    "    if number % 2 == 0:\n",
    "      even_count += 1\n",
    "    else:\n",
    "      odd_count += 1\n",
    "\n",
    "  return {\"even_count\": even_count, \"odd_count\": odd_count}\n",
    "\n",
    "# Example usage\n",
    "numbers = [1, 2, 3, 4, 5, 6, 7, 8]\n",
    "result = count_even_odd(numbers)\n",
    "print(f\"Even numbers: {result['even_count']}\")\n",
    "print(f\"Odd numbers: {result['odd_count']}\")"
   ]
  },
  {
   "cell_type": "raw",
   "id": "26410d64-2f7f-4e51-955b-49fbf0aaef9d",
   "metadata": {},
   "source": [
    "7. Develop a program that prints the squares of numbers from 1 to 5 using a `for` loop."
   ]
  },
  {
   "cell_type": "code",
   "execution_count": 62,
   "id": "6f927483-bb38-43a8-83d0-b73fdb3ab6b0",
   "metadata": {},
   "outputs": [
    {
     "name": "stdout",
     "output_type": "stream",
     "text": [
      "Square of 1 is: 1\n",
      "Square of 2 is: 4\n",
      "Square of 3 is: 9\n",
      "Square of 4 is: 16\n",
      "Square of 5 is: 25\n"
     ]
    }
   ],
   "source": [
    "def print_squares(max_number):\n",
    "  \"\"\"\n",
    "  This function prints the squares of numbers from 1 to a specified maximum number.\n",
    "\n",
    "  Args:\n",
    "    max_number: The maximum number up to which squares will be printed.\n",
    "  \"\"\"\n",
    "\n",
    "  for number in range(1, max_number + 1):\n",
    "    square = number ** 2\n",
    "    print(f\"Square of {number} is: {square}\")\n",
    "\n",
    "max_number = 5\n",
    "print_squares(max_number)"
   ]
  },
  {
   "cell_type": "raw",
   "id": "83e09663-930e-4eb5-bf33-0e0648694144",
   "metadata": {},
   "source": [
    "8. Create a program to find the length of a string without using the `len()` function."
   ]
  },
  {
   "cell_type": "code",
   "execution_count": 63,
   "id": "133d86e4-b1f8-4eae-b6ff-1be21c7db046",
   "metadata": {},
   "outputs": [
    {
     "name": "stdout",
     "output_type": "stream",
     "text": [
      "Length of string 'edyoda' is: 6\n"
     ]
    }
   ],
   "source": [
    "def find_string_length(string):\n",
    "  \"\"\"\n",
    "  This function finds the length of a string without using the len() function.\n",
    "\n",
    "  Args:\n",
    "    string: The string whose length is to be found.\n",
    "\n",
    "  Returns:\n",
    "    The length of the string.\n",
    "  \"\"\"\n",
    "\n",
    "  count = 0\n",
    "  for character in string:\n",
    "    count += 1\n",
    "  return count\n",
    "\n",
    "# Example usage\n",
    "string = \"edyoda\"\n",
    "length = find_string_length(string)\n",
    "print(f\"Length of string '{string}' is: {length}\")"
   ]
  },
  {
   "cell_type": "raw",
   "id": "12a2706d-be28-4f9b-8a0a-f445e36a6675",
   "metadata": {},
   "source": [
    "9. Write a program that calculates the average of a list of numbers using a `for` loop."
   ]
  },
  {
   "cell_type": "code",
   "execution_count": 66,
   "id": "16ae9138-04cf-473a-9718-ff8fec88f1a4",
   "metadata": {},
   "outputs": [
    {
     "name": "stdout",
     "output_type": "stream",
     "text": [
      "Average of the list is: 30.0\n"
     ]
    }
   ],
   "source": [
    "def calculate_average(numbers):\n",
    "  \"\"\"\n",
    "  This function calculates the average of a list of numbers using a for loop.\n",
    "\n",
    "  Args:\n",
    "    numbers: A list of numbers.\n",
    "\n",
    "  Returns:\n",
    "    The average of the numbers in the list.\n",
    "  \"\"\"\n",
    "\n",
    "  sum = 0\n",
    "  for number in numbers:\n",
    "    sum += number\n",
    "  average = sum / len(numbers)\n",
    "  return average\n",
    "numbers = [10, 20, 30, 40, 50]\n",
    "average = calculate_average(numbers)\n",
    "print(f\"Average of the list is: {average}\")"
   ]
  },
  {
   "cell_type": "raw",
   "id": "5f29b576-9614-420d-a5e0-16df76277c58",
   "metadata": {},
   "source": [
    "10. Develop a program that prints the first `n` Fibonacci numbers using a `for` loop."
   ]
  },
  {
   "cell_type": "code",
   "execution_count": 70,
   "id": "b2e06746-141b-4ca6-b30b-3cc1063cf61e",
   "metadata": {},
   "outputs": [
    {
     "name": "stdout",
     "output_type": "stream",
     "text": [
      "0\n",
      "1\n",
      "1\n",
      "2\n",
      "3\n",
      "5\n",
      "8\n",
      "13\n",
      "21\n",
      "34\n"
     ]
    }
   ],
   "source": [
    "def fibonacci(n):\n",
    "  \"\"\"\n",
    "  This function prints the first n Fibonacci numbers.\n",
    "\n",
    "  Args:\n",
    "    n: The number of Fibonacci numbers to print.\n",
    "  \"\"\"\n",
    "  first = 0\n",
    "  second = 1\n",
    "  if n >= 1:\n",
    "    print(first)\n",
    "  if n >= 2:\n",
    "    print(second)\n",
    "  for i in range(2, n):\n",
    "    third = first + second\n",
    "    print(third)\n",
    "    first = second\n",
    "    second = third\n",
    "n = 10\n",
    "fibonacci(n)"
   ]
  },
  {
   "cell_type": "raw",
   "id": "112f3b4c-47e8-415b-af03-b82a6ad5d534",
   "metadata": {},
   "source": [
    "11. Write a program to check if a given list contains any duplicates using a `for` loop."
   ]
  },
  {
   "cell_type": "code",
   "execution_count": 75,
   "id": "26677b01-5412-40ea-b948-2ceaa5e55d91",
   "metadata": {},
   "outputs": [
    {
     "data": {
      "text/plain": [
       "True"
      ]
     },
     "execution_count": 75,
     "metadata": {},
     "output_type": "execute_result"
    }
   ],
   "source": [
    "def has_duplicates(list1):\n",
    "  \"\"\"\n",
    "  This function checks if a given list contains any duplicates using a for loop.\n",
    "\n",
    "  Args:\n",
    "      list1: The list to check for duplicates.\n",
    "\n",
    "  Returns:\n",
    "      True if the list contains duplicates, False otherwise.\n",
    "  \"\"\"\n",
    "  seen = set()\n",
    "  for element in list1:\n",
    "    if element in seen:\n",
    "      return True\n",
    "    seen.add(element)\n",
    "  return False\n",
    "list1 = [1, 2, 3, 4, 5, 1]\n",
    "has_duplicates(list1)"
   ]
  },
  {
   "cell_type": "raw",
   "id": "d4620e22-24d9-452a-8bf1-02a3e3265565",
   "metadata": {},
   "source": [
    "12. Create a program that prints the prime numbers in a given range using a `for` loop."
   ]
  },
  {
   "cell_type": "code",
   "execution_count": 78,
   "id": "69c7ab9f-e1cf-4bdb-a1a5-419d385b4af1",
   "metadata": {},
   "outputs": [
    {
     "name": "stdout",
     "output_type": "stream",
     "text": [
      "1\n",
      "3\n",
      "5\n",
      "7\n",
      "9\n",
      "11\n",
      "13\n",
      "15\n",
      "17\n",
      "19\n",
      "21\n",
      "23\n",
      "25\n",
      "27\n",
      "29\n"
     ]
    }
   ],
   "source": [
    "for i in range(30):\n",
    "    if i % 2 != 0:\n",
    "        print(i)"
   ]
  },
  {
   "cell_type": "raw",
   "id": "69677b5a-67e6-4dec-9ddb-04ec3f525bcb",
   "metadata": {},
   "source": [
    "13. Develop a program that counts the number of vowels in a string using a `for` loop."
   ]
  },
  {
   "cell_type": "code",
   "execution_count": 95,
   "id": "812079f4-fca8-49b0-87b3-624b1ff89a22",
   "metadata": {},
   "outputs": [
    {
     "name": "stdout",
     "output_type": "stream",
     "text": [
      "a\n",
      "i\n"
     ]
    }
   ],
   "source": [
    "s = 'giriraj'\n",
    "l1 = list (s)\n",
    "vowles = ['a','e','i','o','u']\n",
    "for i in vowles:\n",
    "    if i in l1:\n",
    "        print (i)"
   ]
  },
  {
   "cell_type": "raw",
   "id": "0abd68db-b2d6-47b1-ad63-a7b39c3cf60d",
   "metadata": {},
   "source": [
    "14. Write a program to find the maximum element in a 2D list using a nested `for` loop."
   ]
  },
  {
   "cell_type": "code",
   "execution_count": null,
   "id": "223e16ae-118b-440f-b474-64734683b833",
   "metadata": {},
   "outputs": [],
   "source": []
  },
  {
   "cell_type": "raw",
   "id": "ce47cbe9-a791-4a67-bc80-e07b1dae5753",
   "metadata": {},
   "source": [
    "15. Create a program that removes all occurrences of a specific element from a list using a `for` loop."
   ]
  },
  {
   "cell_type": "code",
   "execution_count": 117,
   "id": "95050784-3f4a-478c-a3bf-32a69f5d8fe4",
   "metadata": {},
   "outputs": [
    {
     "name": "stdout",
     "output_type": "stream",
     "text": [
      "[1, 3, 3, 4, 5, 6, 1, 3]\n",
      "[3, 3, 4, 5, 6, 3]\n"
     ]
    }
   ],
   "source": [
    "l1 = [1, 1, 1, 3, 3, 4, 5, 6, 1, 3]\n",
    "for i in l1:\n",
    "    if i == 1:\n",
    "        l2 = l1.remove(i)\n",
    "        l1.remove(i)\n",
    "        print(l1)"
   ]
  },
  {
   "cell_type": "raw",
   "id": "dae4eeaa-0b96-4ffe-b2fc-dc1f945b3b91",
   "metadata": {},
   "source": [
    "16. Develop a program that generates a multiplication table for numbers from 1 to 5 using a nested `for` loop."
   ]
  },
  {
   "cell_type": "code",
   "execution_count": 3,
   "id": "7a0e1d85-eea4-40c9-8792-01a8f5726885",
   "metadata": {},
   "outputs": [
    {
     "name": "stdout",
     "output_type": "stream",
     "text": [
      "------------\n",
      "Table of 1\n",
      "------------\n",
      "1\n",
      "2\n",
      "3\n",
      "4\n",
      "5\n",
      "------------\n",
      "Table of 2\n",
      "------------\n",
      "2\n",
      "4\n",
      "6\n",
      "8\n",
      "10\n",
      "------------\n",
      "Table of 3\n",
      "------------\n",
      "3\n",
      "6\n",
      "9\n",
      "12\n",
      "15\n",
      "------------\n",
      "Table of 4\n",
      "------------\n",
      "4\n",
      "8\n",
      "12\n",
      "16\n",
      "20\n",
      "------------\n",
      "Table of 5\n",
      "------------\n",
      "5\n",
      "10\n",
      "15\n",
      "20\n",
      "25\n"
     ]
    }
   ],
   "source": [
    "for i in range(1, 6):\n",
    "    print(f\"------------\\nTable of {i}\\n------------\")\n",
    "    for j in range(1, 6):\n",
    "        product = i * j\n",
    "        print(product)"
   ]
  },
  {
   "cell_type": "raw",
   "id": "22906130-c86e-424f-8185-038cbe48de24",
   "metadata": {},
   "source": [
    "17. Write a program that converts a list of Fahrenheit temperatures to Celsius using a `for` loop."
   ]
  },
  {
   "cell_type": "code",
   "execution_count": 124,
   "id": "f1452f7d-d056-4f1e-993d-965ceb5645fe",
   "metadata": {},
   "outputs": [
    {
     "name": "stdout",
     "output_type": "stream",
     "text": [
      "0.0\n",
      "2.2222222222222223\n",
      "7.222222222222222\n",
      "11.11111111111111\n"
     ]
    }
   ],
   "source": [
    "l1 = [32, 36, 45, 52]\n",
    "for i in l1:\n",
    "    value_in_celcius = (i - 32) * 5/9\n",
    "    print(value_in_celcius)"
   ]
  },
  {
   "cell_type": "raw",
   "id": "cefa75cd-85b3-489e-9795-38283743115f",
   "metadata": {},
   "source": [
    "18. Create a program to print the common elements from two lists using a `for` loop."
   ]
  },
  {
   "cell_type": "code",
   "execution_count": 126,
   "id": "c78acd51-2cc5-4a77-8df5-ec7d30867f66",
   "metadata": {},
   "outputs": [
    {
     "name": "stdout",
     "output_type": "stream",
     "text": [
      "1\n",
      "2\n",
      "6\n"
     ]
    }
   ],
   "source": [
    "l1 = [1, 2, 3, 4, 5, 6]\n",
    "l2 = [1, 2, 38, 6, 9]\n",
    "for i in l1:\n",
    "    if i in l2:\n",
    "        print (i)"
   ]
  },
  {
   "cell_type": "raw",
   "id": "8d45a5ea-72c8-4b1d-a91a-9e6d50806cd1",
   "metadata": {},
   "source": [
    "19. Develop a program that prints the pattern of right-angled triangles using a `for` loop. Use ‘*’ to draw the pattern"
   ]
  },
  {
   "cell_type": "code",
   "execution_count": 143,
   "id": "e5a1b92e-d079-4cb1-bd44-278ed8ca2aa5",
   "metadata": {},
   "outputs": [
    {
     "name": "stdout",
     "output_type": "stream",
     "text": [
      "*\n",
      "**\n",
      "***\n",
      "****\n",
      "*****\n",
      "******\n"
     ]
    }
   ],
   "source": [
    "for i in range(1, 7):\n",
    "    for j in range(i):\n",
    "        print('*', end='')\n",
    "    print()"
   ]
  },
  {
   "cell_type": "raw",
   "id": "b88d7b34-5b58-4cc9-b1b7-dd90ebd17d38",
   "metadata": {},
   "source": [
    "20. Write a program to find the greatest common divisor (GCD) of two numbers using a `for` loop."
   ]
  },
  {
   "cell_type": "code",
   "execution_count": 1,
   "id": "27a51cc6-5561-4f1e-abc4-4eec497f93df",
   "metadata": {},
   "outputs": [
    {
     "name": "stdout",
     "output_type": "stream",
     "text": [
      "5\n"
     ]
    }
   ],
   "source": [
    "def gcd(a, b):\n",
    "  while True:\n",
    "    for i in range(1, min(a, b) + 1):\n",
    "      if a % i == 0 and b % i == 0:\n",
    "        gcd = i\n",
    "    if b == 0:\n",
    "      return gcd\n",
    "    a, b = b, a % b\n",
    "\n",
    "a = 30\n",
    "b = 25\n",
    "\n",
    "gcd_value = gcd(a, b)\n",
    "\n",
    "print(gcd_value)"
   ]
  },
  {
   "cell_type": "code",
   "execution_count": null,
   "id": "7c4663bc-f81e-4987-97ab-f05e41777dd3",
   "metadata": {},
   "outputs": [],
   "source": [
    "21. Create a program that calculates the sum of the digits of numbers in a list using a list comprehension."
   ]
  },
  {
   "cell_type": "code",
   "execution_count": 5,
   "id": "a805c4ee-a066-4be7-8b58-a2120043209f",
   "metadata": {},
   "outputs": [
    {
     "name": "stdout",
     "output_type": "stream",
     "text": [
      "Sums of digits: [6, 9, 30]\n"
     ]
    }
   ],
   "source": [
    "def sum_of_digits(numbers):\n",
    "  \"\"\"\n",
    "  Calculates the sum of the digits of each number in a list.\n",
    "\n",
    "  Args:\n",
    "    numbers: A list of integers.\n",
    "\n",
    "  Returns:\n",
    "    A list of sums of digits.\n",
    "  \"\"\"\n",
    "\n",
    "  return [sum([int(digit) for digit in str(number)]) for number in numbers]\n",
    "\n",
    "numbers = [123, 45, 6789]\n",
    "sums_of_digits = sum_of_digits(numbers)\n",
    "\n",
    "print(f\"Sums of digits: {sums_of_digits}\")"
   ]
  },
  {
   "cell_type": "raw",
   "id": "9134ec9c-39b3-47e7-8c43-e06403579254",
   "metadata": {},
   "source": [
    "23. Develop a program that extracts unique elements from a list and stores them in a new list using a list comprehension."
   ]
  },
  {
   "cell_type": "code",
   "execution_count": 3,
   "id": "dbe9b9db-b0ff-4397-b52d-5e71f5a5d20b",
   "metadata": {},
   "outputs": [
    {
     "name": "stdout",
     "output_type": "stream",
     "text": [
      "['giriraj']\n",
      "['giriraj', 1]\n",
      "['giriraj', 1, 2]\n",
      "['giriraj', 1, 2, 3]\n",
      "['giriraj', 1, 2, 3, 4]\n",
      "['giriraj', 1, 2, 3, 4, 5]\n",
      "['giriraj', 1, 2, 3, 4, 5, 6]\n"
     ]
    }
   ],
   "source": [
    "l1 = ['giriraj', 1, 2, 3, 4, 5, 6]\n",
    "l2 = []\n",
    "for i in l1:\n",
    "    l2.append(i)\n",
    "    print (l2)\n"
   ]
  },
  {
   "cell_type": "raw",
   "id": "8d913513-0974-4a35-9b9b-c68eaadd8046",
   "metadata": {},
   "source": [
    "24. Create a program that generates a list of all palindromic numbers up to a specified limit using a list comprehension."
   ]
  },
  {
   "cell_type": "code",
   "execution_count": 2,
   "id": "9cfe2d7d-926a-408a-bf08-2e8acf609b9d",
   "metadata": {},
   "outputs": [
    {
     "name": "stdout",
     "output_type": "stream",
     "text": [
      "[0, 1, 2, 3, 4, 5, 6, 7, 8, 9, 11, 22, 33, 44, 55, 66, 77, 88, 99]\n"
     ]
    }
   ],
   "source": [
    "l3 = [i for i in range(100) if str(i) == str(i)[::-1]]\n",
    "print(l3)"
   ]
  },
  {
   "cell_type": "raw",
   "id": "630f5f1f-dcf6-4ed1-897b-1cc742c893c5",
   "metadata": {},
   "source": [
    "25. Write a program to flatten a nested list using list comprehension."
   ]
  },
  {
   "cell_type": "code",
   "execution_count": 16,
   "id": "7658b434-0a97-4984-98ee-159990221581",
   "metadata": {},
   "outputs": [
    {
     "name": "stdout",
     "output_type": "stream",
     "text": [
      "[56, 78, 90, 23, 54, 34, 23, 67]\n"
     ]
    }
   ],
   "source": [
    "l1 = [56, 78, 90, 23, [54, 34, 23, 67]]\n",
    "flattened_list = [item for sublist in l1 for item in (sublist if isinstance(sublist, list) else [sublist])]\n",
    "print(flattened_list)\n"
   ]
  },
  {
   "cell_type": "raw",
   "id": "3d5b0a21-7869-4bc6-a5bf-103f02223d6a",
   "metadata": {},
   "source": [
    "26. Develop a program that computes the sum of even and odd numbers in a list separately using list comprehension."
   ]
  },
  {
   "cell_type": "code",
   "execution_count": 6,
   "id": "34d0386c-b428-4e61-b8d4-5f85d47028bb",
   "metadata": {},
   "outputs": [
    {
     "name": "stdout",
     "output_type": "stream",
     "text": [
      "90\n",
      "100\n"
     ]
    }
   ],
   "source": [
    "l5 = [i for i in range (20) if i % 2 == 0]\n",
    "total1 = sum (l5)\n",
    "l6 = [i for i in range (20) if i % 2 != 0]\n",
    "total2 = sum (l6)\n",
    "print (total1)\n",
    "print (total2)"
   ]
  },
  {
   "cell_type": "raw",
   "id": "e255f419-07c0-49cb-b4fa-dfff04e54d17",
   "metadata": {},
   "source": [
    "27. Create a program that generates a list of squares of odd numbers between 1 and 10 using list comprehension."
   ]
  },
  {
   "cell_type": "code",
   "execution_count": 8,
   "id": "85658ce7-d3a4-4946-b7c9-b859cfdd92be",
   "metadata": {},
   "outputs": [
    {
     "name": "stdout",
     "output_type": "stream",
     "text": [
      "[1, 9, 25, 49, 81]\n"
     ]
    }
   ],
   "source": [
    "l7 = [i**2 for i in range (1,11) if i % 2 != 0 ]\n",
    "print (l7)"
   ]
  },
  {
   "cell_type": "raw",
   "id": "84ee6444-bd10-4b26-a3ef-bd49682c0185",
   "metadata": {},
   "source": [
    "28. Write a program that combines two lists into a dictionary using list comprehension."
   ]
  },
  {
   "cell_type": "code",
   "execution_count": 9,
   "id": "24fc8af1-c23c-4746-8447-75597116d952",
   "metadata": {},
   "outputs": [
    {
     "name": "stdout",
     "output_type": "stream",
     "text": [
      "{'a': 1, 'b': 2, 'c': 3, 'd': 4}\n"
     ]
    }
   ],
   "source": [
    "keys = ['a', 'b', 'c', 'd']\n",
    "values = [1, 2, 3, 4]\n",
    "\n",
    "dictionary = {k: v for k, v in zip(keys, values)}\n",
    "\n",
    "print(dictionary)"
   ]
  },
  {
   "cell_type": "raw",
   "id": "a37e9671-4844-4c9d-8c5e-2dda4a6e0bd8",
   "metadata": {},
   "source": [
    "29. Develop a program that extracts the vowels from a string and stores them in a list using list comprehension."
   ]
  },
  {
   "cell_type": "code",
   "execution_count": 14,
   "id": "b59f39aa-c0b4-4d91-a19e-4b5655ae7e5a",
   "metadata": {},
   "outputs": [
    {
     "name": "stdout",
     "output_type": "stream",
     "text": [
      "['e', 'o', 'o']\n"
     ]
    }
   ],
   "source": [
    "s = \"Hello, World!\"\n",
    "s.lower()\n",
    "vowels = [char for char in s if char in 'aeiou']\n",
    "print(vowels)"
   ]
  },
  {
   "cell_type": "raw",
   "id": "3c75a039-73ea-4276-8499-4ac4a7f85d61",
   "metadata": {},
   "source": [
    "30. Create a program that removes all non-numeric characters from a list of strings using list comprehension."
   ]
  },
  {
   "cell_type": "code",
   "execution_count": 15,
   "id": "75f28a32-9807-48b7-b577-b9071477bf59",
   "metadata": {},
   "outputs": [
    {
     "name": "stdout",
     "output_type": "stream",
     "text": [
      "['123', '456', '789']\n"
     ]
    }
   ],
   "source": [
    "list_of_strings = ['abc123', 'def456', 'ghi789']\n",
    "list_of_numbers = [''.join(char for char in s if char.isdigit()) for s in list_of_strings]\n",
    "print(list_of_numbers)"
   ]
  },
  {
   "cell_type": "markdown",
   "id": "58df7800-ca92-4b22-96ec-a9a59c8b0f42",
   "metadata": {},
   "source": [
    "31. Write a program to generate a list of prime numbers using the Sieve of Eratosthenes algorithm and list comprehension."
   ]
  },
  {
   "cell_type": "code",
   "execution_count": 1,
   "id": "8ae5576d-fd93-4de7-aa42-4dc23d574904",
   "metadata": {},
   "outputs": [
    {
     "name": "stdout",
     "output_type": "stream",
     "text": [
      "Following are the prime numbers smaller than or equal to 30\n",
      "2\n",
      "3\n",
      "5\n",
      "7\n",
      "11\n",
      "13\n",
      "17\n",
      "19\n",
      "23\n",
      "29\n"
     ]
    }
   ],
   "source": [
    "def SieveOfEratosthenes(num):\n",
    "    # Create a boolean array \"prime\" to track whether a number is prime\n",
    "    prime = [True for i in range(num + 1)]\n",
    "\n",
    "    # Start with the smallest prime number, 2\n",
    "    p = 2\n",
    "    while p * p <= num:\n",
    "        # If prime[p] is still True, it is a prime number\n",
    "        if prime[p]:\n",
    "            # Mark all multiples of p as non-prime\n",
    "            for i in range(p * p, num + 1, p):\n",
    "                prime[i] = False\n",
    "        p += 1\n",
    "\n",
    "    # Print all prime numbers\n",
    "    for p in range(2, num + 1):\n",
    "        if prime[p]:\n",
    "            print(p)\n",
    "\n",
    "# Example usage\n",
    "if __name__ == '__main__':\n",
    "    num = 30\n",
    "    print(\"Following are the prime numbers smaller than or equal to\", num)\n",
    "    SieveOfEratosthenes(num)"
   ]
  },
  {
   "cell_type": "raw",
   "id": "27c46da4-83e1-47ef-b3e7-ce06ea0c90d0",
   "metadata": {},
   "source": [
    "32. Create a program that generates a list of all Pythagorean triplets up to a specified limit using list\n",
    "comprehension."
   ]
  },
  {
   "cell_type": "code",
   "execution_count": 2,
   "id": "856657ea-ac24-4ebc-b985-bddd9e508267",
   "metadata": {},
   "outputs": [
    {
     "name": "stdin",
     "output_type": "stream",
     "text": [
      "Enter the value of n:  30\n"
     ]
    },
    {
     "name": "stdout",
     "output_type": "stream",
     "text": [
      "Pythagorean triplets up to 30 are:\n",
      "(3, 4, 5)\n",
      "(5, 12, 13)\n",
      "(6, 8, 10)\n",
      "(7, 24, 25)\n",
      "(8, 15, 17)\n",
      "(9, 12, 15)\n",
      "(10, 24, 26)\n",
      "(12, 16, 20)\n",
      "(15, 20, 25)\n",
      "(18, 24, 30)\n",
      "(20, 21, 29)\n"
     ]
    }
   ],
   "source": [
    "def generate_pythagorean_triplets(limit):\n",
    "    # Using list comprehension to find Pythagorean triplets\n",
    "    triplets = [(a, b, c) for a in range(1, limit + 1)\n",
    "                for b in range(a, limit + 1)\n",
    "                for c in range(b, limit + 1)\n",
    "                if a**2 + b**2 == c**2]\n",
    "\n",
    "    return triplets\n",
    "\n",
    "if __name__ == '__main__':\n",
    "    try:\n",
    "        limit = int(input(\"Enter the value of n: \"))\n",
    "        pythagorean_triplets = generate_pythagorean_triplets(limit)\n",
    "        print(\"Pythagorean triplets up to\", limit, \"are:\")\n",
    "        for triplet in pythagorean_triplets:\n",
    "            print(triplet)\n",
    "    except ValueError:\n",
    "        print(\"Please enter a valid positive integer.\")"
   ]
  },
  {
   "cell_type": "markdown",
   "id": "e1b4dda8-a208-4d48-b631-eb2c52922f21",
   "metadata": {},
   "source": [
    "33. Develop a program that generates a list of all possible combinations of two lists using list comprehension."
   ]
  },
  {
   "cell_type": "code",
   "execution_count": 3,
   "id": "4ff03aa2-968e-4198-82d7-434135f0d533",
   "metadata": {},
   "outputs": [
    {
     "name": "stdout",
     "output_type": "stream",
     "text": [
      "All possible combinations of elements from lists:\n",
      "(1, 'a')\n",
      "(1, 'b')\n",
      "(1, 'c')\n",
      "(2, 'a')\n",
      "(2, 'b')\n",
      "(2, 'c')\n",
      "(3, 'a')\n",
      "(3, 'b')\n",
      "(3, 'c')\n"
     ]
    }
   ],
   "source": [
    "def generate_combinations(list_a, list_b):\n",
    "    # Using list comprehension to create pairs of elements from both lists\n",
    "    all_combinations = [(x, y) for x in list_a for y in list_b]\n",
    "\n",
    "    return all_combinations\n",
    "\n",
    "if __name__ == '__main__':\n",
    "    try:\n",
    "        list_a = [1, 2, 3]\n",
    "        list_b = ['a', 'b', 'c']\n",
    "        combinations = generate_combinations(list_a, list_b)\n",
    "        print(\"All possible combinations of elements from lists:\")\n",
    "        for pair in combinations:\n",
    "            print(pair)\n",
    "    except ValueError:\n",
    "        print(\"Please provide valid lists.\")"
   ]
  },
  {
   "cell_type": "markdown",
   "id": "ae524f50-6d1b-4a64-ab9d-7b8fce32675b",
   "metadata": {},
   "source": [
    "34. Write a program that calculates the mean, median, and mode of a list of numbers using list"
   ]
  },
  {
   "cell_type": "code",
   "execution_count": 4,
   "id": "5d0fe4c9-c18a-4b15-8dc2-633cbbd9c348",
   "metadata": {},
   "outputs": [
    {
     "name": "stdout",
     "output_type": "stream",
     "text": [
      "Mode is/are: 5\n"
     ]
    }
   ],
   "source": [
    "from collections import Counter\n",
    "\n",
    "def calculate_mode(numbers):\n",
    "    data = Counter(numbers)\n",
    "    max_count = max(data.values())\n",
    "    modes = [k for k, v in data.items() if v == max_count]\n",
    "    if len(modes) == len(numbers):\n",
    "        return \"No mode found\"\n",
    "    else:\n",
    "        return f\"Mode is/are: {', '.join(map(str, modes))}\"\n",
    "\n",
    "# Example usage\n",
    "num_list = [1, 2, 3, 4, 5, 5]\n",
    "mode_value = calculate_mode(num_list)\n",
    "print(mode_value)"
   ]
  },
  {
   "cell_type": "markdown",
   "id": "89921f5d-8541-464a-b7a8-aca673028a22",
   "metadata": {},
   "source": [
    "35. Create a program that generates Pascal's triangle up to a specified number of rows using list\n",
    "comprehension."
   ]
  },
  {
   "cell_type": "code",
   "execution_count": 5,
   "id": "d7fad3f2-b8e7-484a-b97a-1a90e16623a2",
   "metadata": {},
   "outputs": [
    {
     "name": "stdin",
     "output_type": "stream",
     "text": [
      "Enter the number of rows for Pascal's triangle:  8\n"
     ]
    },
    {
     "name": "stdout",
     "output_type": "stream",
     "text": [
      "\n",
      "Pascal's Triangle:\n",
      "               1                \n",
      "              1 1               \n",
      "             1 2 1              \n",
      "            1 3 3 1             \n",
      "           1 4 6 4 1            \n",
      "         1 5 10 10 5 1          \n",
      "        1 6 15 20 15 6 1        \n",
      "      1 7 21 35 35 21 7 1       \n"
     ]
    }
   ],
   "source": [
    "\n",
    "def generate_pascals_triangle(rows):\n",
    "    # Initialize the triangle with the first row\n",
    "    triangle = [[1]]\n",
    "\n",
    "    # Generate subsequent rows using list comprehension\n",
    "    for _ in range(1, rows):\n",
    "        new_row = [1] + [triangle[-1][i] + triangle[-1][i + 1] for i in range(len(triangle[-1]) - 1)] + [1]\n",
    "        triangle.append(new_row)\n",
    "\n",
    "    return triangle\n",
    "\n",
    "def print_pascals_triangle(triangle):\n",
    "    for row in triangle:\n",
    "        print(\" \".join(map(str, row)).center(len(triangle[-1]) * 4))\n",
    "\n",
    "if __name__ == '__main__':\n",
    "    try:\n",
    "        num_rows = int(input(\"Enter the number of rows for Pascal's triangle: \"))\n",
    "        pascals_triangle = generate_pascals_triangle(num_rows)\n",
    "        print(\"\\nPascal's Triangle:\")\n",
    "        print_pascals_triangle(pascals_triangle)\n",
    "    except ValueError:\n",
    "        print(\"Please enter a valid positive integer.\")"
   ]
  },
  {
   "cell_type": "markdown",
   "id": "c029f089-4863-4771-b663-3048ba5578b3",
   "metadata": {},
   "source": [
    "36. Develop a program that calculates the sum of the digits of a factorial of numbers from 1 to 5 using list\n",
    "comprehension."
   ]
  },
  {
   "cell_type": "code",
   "execution_count": 6,
   "id": "efa47a3b-b79e-4228-867a-125833984b6b",
   "metadata": {},
   "outputs": [
    {
     "name": "stdout",
     "output_type": "stream",
     "text": [
      "Sum of digits in 1! = 1\n",
      "Sum of digits in 2! = 2\n",
      "Sum of digits in 3! = 6\n",
      "Sum of digits in 4! = 6\n",
      "Sum of digits in 5! = 3\n"
     ]
    }
   ],
   "source": [
    "from math import factorial\n",
    "\n",
    "def sum_of_factorial_digits(n):\n",
    "    return sum(int(digit) for digit in str(factorial(n)))\n",
    "\n",
    "if __name__ == '__main__':\n",
    "    for num in range(1, 6):\n",
    "        digit_sum = sum_of_factorial_digits(num)\n",
    "        print(f\"Sum of digits in {num}! = {digit_sum}\")"
   ]
  },
  {
   "cell_type": "markdown",
   "id": "17ef9f9f-143a-4688-8bde-02b36722ac03",
   "metadata": {},
   "source": [
    "37. Write a program that finds the longest word in a sentence using list comprehension."
   ]
  },
  {
   "cell_type": "code",
   "execution_count": 7,
   "id": "a76bdc41-22b2-47eb-9cf2-dc503649ad73",
   "metadata": {},
   "outputs": [
    {
     "name": "stdout",
     "output_type": "stream",
     "text": [
      "Longest word: confident\n"
     ]
    }
   ],
   "source": [
    "import re\n",
    "\n",
    "def longest_word(sentence):\n",
    "    words = re.findall(r'\\b\\w+\\b', sentence)\n",
    "    return max(words, key=len)\n",
    "\n",
    "if __name__ == '__main__':\n",
    "    sentence = \"be confident and be yourself\"\n",
    "    print(\"Longest word:\", longest_word(sentence))"
   ]
  },
  {
   "cell_type": "markdown",
   "id": "4839b8ed-4666-4279-a4da-33dced9f5f02",
   "metadata": {},
   "source": [
    "38. Create a program that filters a list of strings to include only those with more than three vowels using list\n",
    "comprehension."
   ]
  },
  {
   "cell_type": "code",
   "execution_count": 20,
   "id": "68c5e25e-7b5d-4377-8410-0caf3b6a26d9",
   "metadata": {},
   "outputs": [
    {
     "name": "stdout",
     "output_type": "stream",
     "text": [
      "['banana', 'orange', 'grapefruit']\n"
     ]
    }
   ],
   "source": [
    "def count_vowels(word):\n",
    "    vowels = 'aeiouAEIOU'\n",
    "    return sum(1 for char in word if char in vowels)\n",
    "\n",
    "def filter_strings_with_vowels(strings, min_vowels=2):\n",
    "    return [string for string in strings if count_vowels(string) > min_vowels]\n",
    "\n",
    "if __name__ == '__main__':\n",
    "    input_strings = ['apple', 'banana', 'orange', 'kiwi', 'grapefruit']\n",
    "    filtered_strings = filter_strings_with_vowels(input_strings)\n",
    "    print(filtered_strings)"
   ]
  },
  {
   "cell_type": "markdown",
   "id": "4f3909ad-54f7-4a86-897d-c1dcf58f4888",
   "metadata": {},
   "source": [
    "39. Develop a program that calculates the sum of the digits of numbers from 1 to 1000 using list\n",
    "comprehension."
   ]
  },
  {
   "cell_type": "code",
   "execution_count": 21,
   "id": "8925676f-8673-4b68-a6a2-55b0f48fe56b",
   "metadata": {},
   "outputs": [
    {
     "name": "stdout",
     "output_type": "stream",
     "text": [
      "The sum of the digits of numbers from 1 to 1000 is: 13501\n"
     ]
    }
   ],
   "source": [
    "numbers = list(range(1, 1001))\n",
    "\n",
    "sum_of_digits = sum([sum([int(digit) for digit in str(number)]) for number in numbers])\n",
    "\n",
    "print(f\"The sum of the digits of numbers from 1 to 1000 is: {sum_of_digits}\")"
   ]
  },
  {
   "cell_type": "markdown",
   "id": "32e2a945-5382-425d-ba19-0e9c342a7396",
   "metadata": {},
   "source": [
    "40. Write a program that generates a list of prime palindromic numbers using list comprehension."
   ]
  },
  {
   "cell_type": "code",
   "execution_count": 22,
   "id": "269c1e11-a125-4bf1-8520-5c46968bbef4",
   "metadata": {},
   "outputs": [
    {
     "name": "stdout",
     "output_type": "stream",
     "text": [
      "Prime palindromic numbers between 1 and 1000:\n",
      "[1, 2, 3, 5, 7, 11, 101, 131, 151, 181, 191, 313, 353, 373, 383, 727, 757, 787, 797, 919, 929]\n"
     ]
    }
   ],
   "source": [
    "start = 1\n",
    "end = 1000  \n",
    "prime_palindromes = [num for num in range(start, end) if all(num % d != 0 for d in range(2, int(num**0.5) + 1)) and str(num) == str(num)[::-1]]\n",
    "\n",
    "print(\"Prime palindromic numbers between {} and {}:\".format(start, end))\n",
    "print(prime_palindromes)"
   ]
  },
  {
   "cell_type": "code",
   "execution_count": null,
   "id": "f6968a2b-0d44-4761-a609-7bbca4b8359e",
   "metadata": {},
   "outputs": [],
   "source": []
  }
 ],
 "metadata": {
  "kernelspec": {
   "display_name": "Python 3 (ipykernel)",
   "language": "python",
   "name": "python3"
  },
  "language_info": {
   "codemirror_mode": {
    "name": "ipython",
    "version": 3
   },
   "file_extension": ".py",
   "mimetype": "text/x-python",
   "name": "python",
   "nbconvert_exporter": "python",
   "pygments_lexer": "ipython3",
   "version": "3.10.8"
  }
 },
 "nbformat": 4,
 "nbformat_minor": 5
}
